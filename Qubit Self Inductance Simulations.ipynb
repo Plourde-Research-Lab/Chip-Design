{
 "cells": [
  {
   "cell_type": "markdown",
   "metadata": {},
   "source": [
    "We want to match the self inductance of the squid loop in a Mod7.5 qubit to the self inductance we are used to in the Mod7.0 qubits."
   ]
  },
  {
   "cell_type": "markdown",
   "metadata": {},
   "source": [
    "## FastHenry Simulation\n",
    "\n",
    "I will use fasthenry to simulate the self inductance of the qubit, as it supports superconductivity. Unfortunately that means I have to setup the very annoying input files. "
   ]
  },
  {
   "cell_type": "code",
   "execution_count": 20,
   "metadata": {
    "collapsed": true
   },
   "outputs": [],
   "source": [
    "import subprocess\n",
    "from numpy import *"
   ]
  },
  {
   "cell_type": "markdown",
   "metadata": {},
   "source": [
    "### Input File Preparation"
   ]
  },
  {
   "cell_type": "code",
   "execution_count": 18,
   "metadata": {
    "collapsed": false
   },
   "outputs": [],
   "source": [
    "def writeinputfile(filename, width=20, height=20):\n",
    "    f = open(filename, 'w')\n",
    "# Prepare Header\n",
    "\n",
    "    header = \"* Qubit Loop Test\\n\"\n",
    "    header += \"* 07/15/2015\\n\\n\"\n",
    "    header += \"* The following line names micrometers as the length units for the rest of the file\\n\"\n",
    "    header += \".units um\\n\\n\"\n",
    "    header += \"* Make z=0 the default z coordinate\\n\"\n",
    "    header += \".default z=0\\n\\n\"\n",
    "\n",
    "    header += \"* Make superconducting\\n\"\n",
    "    header += \"*.default lambda = 85e-3\\n\\n\"\n",
    "\n",
    "    header += \".default nhinc=10 nwinc=20\\n\"\n",
    "    f.write(header)\n",
    "\n",
    "    # Make Squid Loop\n",
    "\n",
    "    loop = \"* Squid Loop\\n\\n\"\n",
    "    loop += \"N1 x=\" + str(-1*width/2) + \" y=\" + str(height/2) + \"\\n\"\n",
    "    loop += \"N2 x=\" + str(1*width/2) + \" y=\" + str(height/2) + \"\\n\"\n",
    "    loop += \"N3 x=\" + str(1*width/2) + \" y=\" + str(-height/2) + \"\\n\"\n",
    "    loop += \"N4 x=\" + str(-1*width/2) + \" y=\" + str(-height/2) + \"\\n\"\n",
    "    loop += \"N5 x=\" + str(-1*width/2) + \" y=\" + str(height/2) + \"\\n\\n\"\n",
    "\n",
    "    loop += \"E1 N1 N2 w=.1 h=0.1\\n\" \n",
    "    loop += \"E2 N2 N3 w=.1 h=0.1\\n\" \n",
    "    loop += \"E3 N3 N4 w=.1 h=0.1\\n\" \n",
    "    loop += \"E4 N4 N5 w=.1 h=0.1\\n\\n\" \n",
    "\n",
    "    f.write(loop)\n",
    "\n",
    "    # Make Capacitors\n",
    "\n",
    "    cap = \"* Capacitor\\n\\n\"\n",
    "    cap += \"N6 x=250 y=95\\n\"\n",
    "    cap += \"N7 x=-250 y=95\\n\"\n",
    "    cap += \"N8 x=250 y=-95\\n\"\n",
    "    cap += \"N9 x=-250 y=-95\\n\\n\"\n",
    "    cap += \"E5 N6 N7 w=120 h=0.1\\n\"\n",
    "    cap += \"E6 N8 N9 w=120 h=0.1\\n\"\n",
    "    f.write(cap)\n",
    "\n",
    "    arms = \"* Arms to Capacitor\\n\\n\"\n",
    "    arms += \"N10 x=0 y=\" + str(height/2) + \"\\n\"\n",
    "    arms += \"N11 x=0 y=95\\n\" \n",
    "    arms += \"N12 x=0 y=\" + str(-height/2) + \"\\n\"\n",
    "    arms += \"N13 x=0 y=-95\\n\\n\"\n",
    "    arms += \"E7 N10 N11 w=.6 h=.1\\n\"\n",
    "    arms += \"E8 N12 N13 w=.6 h=.1\\n\"\n",
    "    f.write(arms)\n",
    "\n",
    "    # Make Footer\n",
    "\n",
    "    footer = \".external N1 N5\\n\\n\"\n",
    "    footer += \"* Frequency range of interest. (ndec=Number of Points per Decade)\\n\"\n",
    "    footer += \".freq fmin=1 fmax=1 ndec=1\\n\\n\"\n",
    "    footer += \"* All input files must end with:\\n\"\n",
    "    footer += \".end\"\n",
    "    f.write(footer)\n",
    "    \n",
    "    f.close()"
   ]
  },
  {
   "cell_type": "code",
   "execution_count": 19,
   "metadata": {
    "collapsed": false
   },
   "outputs": [],
   "source": [
    "writeinputfile('test.inp')"
   ]
  },
  {
   "cell_type": "code",
   "execution_count": 26,
   "metadata": {
    "collapsed": false
   },
   "outputs": [],
   "source": [
    "results = []\n",
    "\n",
    "widths = linspace(20,40,1)\n",
    "heights = linspace(20,40,1)\n",
    "\n",
    "for height in heights:\n",
    "    for width in widths:\n",
    "        filename = \"{}x{}.inp\".format(int(width),int(height))\n",
    "        writeinputfile(filename, width=width, height=height)"
   ]
  },
  {
   "cell_type": "code",
   "execution_count": 29,
   "metadata": {
    "collapsed": false
   },
   "outputs": [
    {
     "ename": "WindowsError",
     "evalue": "[Error 2] The system cannot find the file specified",
     "output_type": "error",
     "traceback": [
      "\u001b[1;31m---------------------------------------------------------------------------\u001b[0m",
      "\u001b[1;31mWindowsError\u001b[0m                              Traceback (most recent call last)",
      "\u001b[1;32m<ipython-input-29-91bd25dd9ca0>\u001b[0m in \u001b[0;36m<module>\u001b[1;34m()\u001b[0m\n\u001b[1;32m----> 1\u001b[1;33m \u001b[0msubprocess\u001b[0m\u001b[1;33m.\u001b[0m\u001b[0mcall\u001b[0m\u001b[1;33m(\u001b[0m\u001b[1;33m(\u001b[0m\u001b[1;34m'fasthenry'\u001b[0m\u001b[1;33m,\u001b[0m \u001b[0mfilename\u001b[0m\u001b[1;33m)\u001b[0m\u001b[1;33m)\u001b[0m\u001b[1;33m\u001b[0m\u001b[0m\n\u001b[0m",
      "\u001b[1;32mC:\\Anaconda\\lib\\subprocess.pyc\u001b[0m in \u001b[0;36mcall\u001b[1;34m(*popenargs, **kwargs)\u001b[0m\n\u001b[0;32m    520\u001b[0m     \u001b[0mretcode\u001b[0m \u001b[1;33m=\u001b[0m \u001b[0mcall\u001b[0m\u001b[1;33m(\u001b[0m\u001b[1;33m[\u001b[0m\u001b[1;34m\"ls\"\u001b[0m\u001b[1;33m,\u001b[0m \u001b[1;34m\"-l\"\u001b[0m\u001b[1;33m]\u001b[0m\u001b[1;33m)\u001b[0m\u001b[1;33m\u001b[0m\u001b[0m\n\u001b[0;32m    521\u001b[0m     \"\"\"\n\u001b[1;32m--> 522\u001b[1;33m     \u001b[1;32mreturn\u001b[0m \u001b[0mPopen\u001b[0m\u001b[1;33m(\u001b[0m\u001b[1;33m*\u001b[0m\u001b[0mpopenargs\u001b[0m\u001b[1;33m,\u001b[0m \u001b[1;33m**\u001b[0m\u001b[0mkwargs\u001b[0m\u001b[1;33m)\u001b[0m\u001b[1;33m.\u001b[0m\u001b[0mwait\u001b[0m\u001b[1;33m(\u001b[0m\u001b[1;33m)\u001b[0m\u001b[1;33m\u001b[0m\u001b[0m\n\u001b[0m\u001b[0;32m    523\u001b[0m \u001b[1;33m\u001b[0m\u001b[0m\n\u001b[0;32m    524\u001b[0m \u001b[1;33m\u001b[0m\u001b[0m\n",
      "\u001b[1;32mC:\\Anaconda\\lib\\subprocess.pyc\u001b[0m in \u001b[0;36m__init__\u001b[1;34m(self, args, bufsize, executable, stdin, stdout, stderr, preexec_fn, close_fds, shell, cwd, env, universal_newlines, startupinfo, creationflags)\u001b[0m\n\u001b[0;32m    708\u001b[0m                                 \u001b[0mp2cread\u001b[0m\u001b[1;33m,\u001b[0m \u001b[0mp2cwrite\u001b[0m\u001b[1;33m,\u001b[0m\u001b[1;33m\u001b[0m\u001b[0m\n\u001b[0;32m    709\u001b[0m                                 \u001b[0mc2pread\u001b[0m\u001b[1;33m,\u001b[0m \u001b[0mc2pwrite\u001b[0m\u001b[1;33m,\u001b[0m\u001b[1;33m\u001b[0m\u001b[0m\n\u001b[1;32m--> 710\u001b[1;33m                                 errread, errwrite)\n\u001b[0m\u001b[0;32m    711\u001b[0m         \u001b[1;32mexcept\u001b[0m \u001b[0mException\u001b[0m\u001b[1;33m:\u001b[0m\u001b[1;33m\u001b[0m\u001b[0m\n\u001b[0;32m    712\u001b[0m             \u001b[1;31m# Preserve original exception in case os.close raises.\u001b[0m\u001b[1;33m\u001b[0m\u001b[1;33m\u001b[0m\u001b[0m\n",
      "\u001b[1;32mC:\\Anaconda\\lib\\subprocess.pyc\u001b[0m in \u001b[0;36m_execute_child\u001b[1;34m(self, args, executable, preexec_fn, close_fds, cwd, env, universal_newlines, startupinfo, creationflags, shell, to_close, p2cread, p2cwrite, c2pread, c2pwrite, errread, errwrite)\u001b[0m\n\u001b[0;32m    956\u001b[0m                                          \u001b[0menv\u001b[0m\u001b[1;33m,\u001b[0m\u001b[1;33m\u001b[0m\u001b[0m\n\u001b[0;32m    957\u001b[0m                                          \u001b[0mcwd\u001b[0m\u001b[1;33m,\u001b[0m\u001b[1;33m\u001b[0m\u001b[0m\n\u001b[1;32m--> 958\u001b[1;33m                                          startupinfo)\n\u001b[0m\u001b[0;32m    959\u001b[0m             \u001b[1;32mexcept\u001b[0m \u001b[0mpywintypes\u001b[0m\u001b[1;33m.\u001b[0m\u001b[0merror\u001b[0m\u001b[1;33m,\u001b[0m \u001b[0me\u001b[0m\u001b[1;33m:\u001b[0m\u001b[1;33m\u001b[0m\u001b[0m\n\u001b[0;32m    960\u001b[0m                 \u001b[1;31m# Translate pywintypes.error to WindowsError, which is\u001b[0m\u001b[1;33m\u001b[0m\u001b[1;33m\u001b[0m\u001b[0m\n",
      "\u001b[1;31mWindowsError\u001b[0m: [Error 2] The system cannot find the file specified"
     ]
    }
   ],
   "source": [
    "subprocess.call(('fasthenry', filename))"
   ]
  },
  {
   "cell_type": "code",
   "execution_count": 30,
   "metadata": {
    "collapsed": false
   },
   "outputs": [
    {
     "data": {
      "text/plain": [
       "'20x20.inp'"
      ]
     },
     "execution_count": 30,
     "metadata": {},
     "output_type": "execute_result"
    }
   ],
   "source": [
    "filename"
   ]
  },
  {
   "cell_type": "code",
   "execution_count": null,
   "metadata": {
    "collapsed": true
   },
   "outputs": [],
   "source": []
  }
 ],
 "metadata": {
  "kernelspec": {
   "display_name": "Python 2",
   "language": "python",
   "name": "python2"
  },
  "language_info": {
   "codemirror_mode": {
    "name": "ipython",
    "version": 2
   },
   "file_extension": ".py",
   "mimetype": "text/x-python",
   "name": "python",
   "nbconvert_exporter": "python",
   "pygments_lexer": "ipython2",
   "version": "2.7.9"
  }
 },
 "nbformat": 4,
 "nbformat_minor": 0
}
