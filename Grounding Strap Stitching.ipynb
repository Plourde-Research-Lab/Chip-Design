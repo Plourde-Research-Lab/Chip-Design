{
 "cells": [
  {
   "cell_type": "code",
   "execution_count": 25,
   "metadata": {
    "collapsed": true
   },
   "outputs": [],
   "source": [
    "import json\n",
    "from numpy import sqrt, float64"
   ]
  },
  {
   "cell_type": "markdown",
   "metadata": {},
   "source": [
    "## Helper Classes"
   ]
  },
  {
   "cell_type": "code",
   "execution_count": 2,
   "metadata": {
    "collapsed": true
   },
   "outputs": [],
   "source": [
    "class point:\n",
    "    def __init__(self, x, y):\n",
    "        self.x = x\n",
    "        self.y = y\n",
    "        \n",
    "    def __repr__(self):\n",
    "        return \"({},{})\".format(self.x, self.y)"
   ]
  },
  {
   "cell_type": "code",
   "execution_count": 3,
   "metadata": {
    "collapsed": false
   },
   "outputs": [],
   "source": [
    "string_from_ruby = '[{\"x\":-3250000,\"y\":3250000},{\"x\":-2000000,\"y\":2000000},{\"x\":-2000000,\"y\":1200000},{\"x\":-1395000,\"y\":1200000}]'"
   ]
  },
  {
   "cell_type": "markdown",
   "metadata": {},
   "source": [
    "## Load string from Ruby"
   ]
  },
  {
   "cell_type": "code",
   "execution_count": 6,
   "metadata": {
    "collapsed": false
   },
   "outputs": [],
   "source": [
    "points = json.loads(string_from_ruby)\n",
    "newpts = []\n",
    "for pt in points:\n",
    "    newpts.append(point(pt['x'], pt['y']))\n",
    "    points = newpts"
   ]
  },
  {
   "cell_type": "markdown",
   "metadata": {},
   "source": [
    "## Convert to python array "
   ]
  },
  {
   "cell_type": "code",
   "execution_count": 10,
   "metadata": {
    "collapsed": false
   },
   "outputs": [
    {
     "name": "stdout",
     "output_type": "stream",
     "text": [
      "[1250000, 0, 605000]\n",
      "[-1250000, -800000, 0]\n",
      "[1767766.9529663688, 800000.0, 605000.0]\n"
     ]
    }
   ],
   "source": [
    "dx = []\n",
    "dy = []\n",
    "dists = []\n",
    "\n",
    "for i in range(0, len(points)-1):\n",
    "    dx.append(points[i+1].x - points[i].x)\n",
    "    dy.append(points[i+1].y - points[i].y)\n",
    "    dists.append(sqrt((points[i+1].x-points[i].x)**2 + (points[i+1].y-points[i].y)**2))"
   ]
  },
  {
   "cell_type": "markdown",
   "metadata": {},
   "source": [
    "## Calculate locations of grounding straps"
   ]
  },
  {
   "cell_type": "code",
   "execution_count": 21,
   "metadata": {
    "collapsed": false
   },
   "outputs": [
    {
     "data": {
      "text/plain": [
       "[19, 9, 8]"
      ]
     },
     "execution_count": 21,
     "metadata": {},
     "output_type": "execute_result"
    }
   ],
   "source": [
    "d = 100000 #100 micron distance\n",
    "di = d\n",
    "strap_points = []\n",
    "pts_per_dist = []\n",
    "for i, dist in enumerate(dists):\n",
    "    j = 1\n",
    "    while di < dist:\n",
    "        di = j*d\n",
    "        strap_points.append(point( points[i].x + di/dist*(points[i+1].x-points[i].x), points[i].y + di/dist*(points[i+1].y-points[i].y)))\n",
    "        j=j+1\n",
    "    di = d\n",
    "    pts_per_dist.append(j)\n",
    "    \n",
    "pts_per_dist"
   ]
  },
  {
   "cell_type": "markdown",
   "metadata": {},
   "source": [
    "## Calculate strap endpoints"
   ]
  },
  {
   "cell_type": "code",
   "execution_count": null,
   "metadata": {
    "collapsed": true
   },
   "outputs": [],
   "source": [
    "strap length = 22000 #22um long\n",
    "strap_paths = []\n",
    "i = 0\n",
    "\n",
    "for idist, step in enumerate(pts_per_dist):\n",
    "    for subi in range(step):\n",
    "        newpath = []\n",
    "        x = strap_points[i+subi].x\n",
    "        y = strap_points[i+subi].y\n",
    "        \n",
    "        \n",
    "        \n",
    "        newpath.append(point()) #First Point\n",
    "        newpath.append(point()) #End Point\n",
    "        strap_paths.append(newpath)\n",
    "        "
   ]
  },
  {
   "cell_type": "code",
   "execution_count": 27,
   "metadata": {
    "collapsed": false
   },
   "outputs": [
    {
     "name": "stderr",
     "output_type": "stream",
     "text": [
      "C:\\Anaconda\\lib\\site-packages\\IPython\\kernel\\__main__.py:1: RuntimeWarning: divide by zero encountered in double_scalars\n",
      "  if __name__ == '__main__':\n"
     ]
    },
    {
     "data": {
      "text/plain": [
       "0.0"
      ]
     },
     "execution_count": 27,
     "metadata": {},
     "output_type": "execute_result"
    }
   ],
   "source": [
    "1/(float64(5)/0)"
   ]
  },
  {
   "cell_type": "code",
   "execution_count": null,
   "metadata": {
    "collapsed": true
   },
   "outputs": [],
   "source": []
  }
 ],
 "metadata": {
  "kernelspec": {
   "display_name": "Python 2",
   "language": "python",
   "name": "python2"
  },
  "language_info": {
   "codemirror_mode": {
    "name": "ipython",
    "version": 2
   },
   "file_extension": ".py",
   "mimetype": "text/x-python",
   "name": "python",
   "nbconvert_exporter": "python",
   "pygments_lexer": "ipython2",
   "version": "2.7.9"
  }
 },
 "nbformat": 4,
 "nbformat_minor": 0
}
