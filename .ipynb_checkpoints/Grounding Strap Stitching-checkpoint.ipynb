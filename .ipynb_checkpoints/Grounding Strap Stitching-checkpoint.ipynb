{
 "cells": [
  {
   "cell_type": "code",
   "execution_count": 1,
   "metadata": {
    "collapsed": true
   },
   "outputs": [],
   "source": [
    "import json\n",
    "from numpy import sqrt, float64, array, nan, isnan"
   ]
  },
  {
   "cell_type": "markdown",
   "metadata": {},
   "source": [
    "## Helper Classes"
   ]
  },
  {
   "cell_type": "code",
   "execution_count": 11,
   "metadata": {
    "collapsed": true
   },
   "outputs": [],
   "source": [
    "class point:\n",
    "    def __init__(self, x, y):\n",
    "        self.x = x\n",
    "        self.y = y\n",
    "        \n",
    "    def __repr__(self):\n",
    "#         return \"({},{})\".format(self.x, self.y)\n",
    "        return json.dumps(self.__dict__)"
   ]
  },
  {
   "cell_type": "code",
   "execution_count": 3,
   "metadata": {
    "collapsed": false
   },
   "outputs": [],
   "source": [
    "string_from_ruby = '[{\"x\":-3250000,\"y\":3250000},{\"x\":-2000000,\"y\":2000000},{\"x\":-2000000,\"y\":1200000},{\"x\":-1395000,\"y\":1200000}]'"
   ]
  },
  {
   "cell_type": "markdown",
   "metadata": {},
   "source": [
    "## Load string from Ruby"
   ]
  },
  {
   "cell_type": "code",
   "execution_count": 12,
   "metadata": {
    "collapsed": false
   },
   "outputs": [],
   "source": [
    "points = json.loads(string_from_ruby)\n",
    "newpts = []\n",
    "for pt in points:\n",
    "    newpts.append(point(pt['x'], pt['y']))\n",
    "    points = newpts"
   ]
  },
  {
   "cell_type": "markdown",
   "metadata": {},
   "source": [
    "## Convert to python array "
   ]
  },
  {
   "cell_type": "code",
   "execution_count": 13,
   "metadata": {
    "collapsed": false
   },
   "outputs": [
    {
     "name": "stderr",
     "output_type": "stream",
     "text": [
      "/usr/local/lib/python2.7/site-packages/IPython/kernel/__main__.py:13: RuntimeWarning: divide by zero encountered in divide\n"
     ]
    }
   ],
   "source": [
    "dx = []\n",
    "dy = []\n",
    "dists = []\n",
    "\n",
    "for i in range(0, len(points)-1):\n",
    "    dx.append(points[i+1].x - points[i].x)\n",
    "    dy.append(points[i+1].y - points[i].y)\n",
    "    dists.append(sqrt((points[i+1].x-points[i].x)**2 + (points[i+1].y-points[i].y)**2))\n",
    "\n",
    "#Slope of grounding straps is perpendicular to line\n",
    "dx = array(map(float64, dx))\n",
    "dy = array(map(float64, dy))\n",
    "m = -dx/dy"
   ]
  },
  {
   "cell_type": "markdown",
   "metadata": {},
   "source": [
    "## Calculate locations of grounding straps"
   ]
  },
  {
   "cell_type": "code",
   "execution_count": 14,
   "metadata": {
    "collapsed": false
   },
   "outputs": [
    {
     "data": {
      "text/plain": [
       "[19, 9, 8]"
      ]
     },
     "execution_count": 14,
     "metadata": {},
     "output_type": "execute_result"
    }
   ],
   "source": [
    "d = 100000 #100 micron distance\n",
    "di = d\n",
    "strap_points = []\n",
    "pts_per_dist = []\n",
    "for i, dist in enumerate(dists):\n",
    "    j = 1\n",
    "    while di < dist:\n",
    "        di = j*d\n",
    "        strap_points.append(point( points[i].x + di/dist*(points[i+1].x-points[i].x), points[i].y + di/dist*(points[i+1].y-points[i].y)))\n",
    "        j=j+1\n",
    "    di = d\n",
    "    pts_per_dist.append(j)\n",
    "    \n",
    "pts_per_dist"
   ]
  },
  {
   "cell_type": "markdown",
   "metadata": {},
   "source": [
    "## Calculate strap endpoints"
   ]
  },
  {
   "cell_type": "code",
   "execution_count": 15,
   "metadata": {
    "collapsed": false
   },
   "outputs": [
    {
     "name": "stdout",
     "output_type": "stream",
     "text": [
      "Segment 0, 19 Paths\n",
      "X Offset: 7778.17459305, Y Offset: 7778.17459305\n",
      "Segment 1, 9 Paths\n",
      "X Offset: 11000.0, Y Offset: 0.0\n",
      "Segment 2, 8 Paths\n",
      "X Offset: 0.0, Y Offset: 11000\n"
     ]
    },
    {
     "name": "stderr",
     "output_type": "stream",
     "text": [
      "/usr/local/lib/python2.7/site-packages/IPython/kernel/__main__.py:8: RuntimeWarning: invalid value encountered in double_scalars\n"
     ]
    }
   ],
   "source": [
    "strap_length = 22000 #22um long\n",
    "strap_paths = []\n",
    "i = 0\n",
    "\n",
    "for idist, step in enumerate(pts_per_dist):\n",
    "    \n",
    "    x_offset = .5*strap_length/sqrt(1+m[idist]**2)\n",
    "    y_offset = m[idist]*.5*strap_length/sqrt(1 + m[idist]**2) \n",
    "    \n",
    "    if isnan(x_offset):\n",
    "        x_offset = strap_length/2\n",
    "    if isnan(y_offset):\n",
    "        y_offset = strap_length/2\n",
    "        \n",
    "    print \"Segment {}, {} Paths\".format(idist, step)\n",
    "    print \"X Offset: {}, Y Offset: {}\".format(x_offset, y_offset)\n",
    "    for subi in range(step-1):\n",
    "        newpath = []\n",
    "        a = strap_points[i].x\n",
    "        b = strap_points[i].y\n",
    "        firstpoint = point(a + x_offset, b + y_offset)\n",
    "        endpoint = point(a - x_offset, b - y_offset)\n",
    "        \n",
    "        newpath.append(firstpoint) #First Point\n",
    "        newpath.append(endpoint) #End Point\n",
    "        strap_paths.append(newpath)\n",
    "        i=i+1"
   ]
  },
  {
   "cell_type": "code",
   "execution_count": 19,
   "metadata": {
    "collapsed": false
   },
   "outputs": [
    {
     "name": "stdout",
     "output_type": "stream",
     "text": [
      "[[{\"y\": 3187067.4964743974, \"x\": -3171511.1472882936}, {\"y\": 3171511.1472882936, \"x\": -3187067.4964743974}], [{\"y\": 3116356.8183557424, \"x\": -3100800.4691696386}, {\"y\": 3100800.4691696386, \"x\": -3116356.8183557424}], [{\"y\": 3045646.1402370874, \"x\": -3030089.7910509836}, {\"y\": 3030089.7910509836, \"x\": -3045646.1402370874}], [{\"y\": 2974935.4621184329, \"x\": -2959379.1129323291}, {\"y\": 2959379.1129323291, \"x\": -2974935.4621184329}], [{\"y\": 2904224.7839997783, \"x\": -2888668.4348136745}, {\"y\": 2888668.4348136745, \"x\": -2904224.7839997783}], [{\"y\": 2833514.1058811233, \"x\": -2817957.7566950195}, {\"y\": 2817957.7566950195, \"x\": -2833514.1058811233}], [{\"y\": 2762803.4277624688, \"x\": -2747247.078576365}, {\"y\": 2747247.078576365, \"x\": -2762803.4277624688}], [{\"y\": 2692092.7496438138, \"x\": -2676536.40045771}, {\"y\": 2676536.40045771, \"x\": -2692092.7496438138}], [{\"y\": 2621382.0715251593, \"x\": -2605825.7223390555}, {\"y\": 2605825.7223390555, \"x\": -2621382.0715251593}], [{\"y\": 2550671.3934065043, \"x\": -2535115.0442204005}, {\"y\": 2535115.0442204005, \"x\": -2550671.3934065043}], [{\"y\": 2479960.7152878498, \"x\": -2464404.366101746}, {\"y\": 2464404.366101746, \"x\": -2479960.7152878498}], [{\"y\": 2409250.0371691948, \"x\": -2393693.687983091}, {\"y\": 2393693.687983091, \"x\": -2409250.0371691948}], [{\"y\": 2338539.3590505403, \"x\": -2322983.0098644365}, {\"y\": 2322983.0098644365, \"x\": -2338539.3590505403}], [{\"y\": 2267828.6809318853, \"x\": -2252272.3317457815}, {\"y\": 2252272.3317457815, \"x\": -2267828.6809318853}], [{\"y\": 2197118.0028132307, \"x\": -2181561.6536271269}, {\"y\": 2181561.6536271269, \"x\": -2197118.0028132307}], [{\"y\": 2126407.3246945757, \"x\": -2110850.975508472}, {\"y\": 2110850.975508472, \"x\": -2126407.3246945757}], [{\"y\": 2055696.6465759212, \"x\": -2040140.297389817}, {\"y\": 2040140.297389817, \"x\": -2055696.6465759212}], [{\"y\": 1984985.9684572667, \"x\": -1969429.6192711624}, {\"y\": 1969429.6192711624, \"x\": -1984985.9684572667}], [{\"y\": 1900000.0, \"x\": -1989000.0}, {\"y\": 1900000.0, \"x\": -2011000.0}], [{\"y\": 1800000.0, \"x\": -1989000.0}, {\"y\": 1800000.0, \"x\": -2011000.0}], [{\"y\": 1700000.0, \"x\": -1989000.0}, {\"y\": 1700000.0, \"x\": -2011000.0}], [{\"y\": 1600000.0, \"x\": -1989000.0}, {\"y\": 1600000.0, \"x\": -2011000.0}], [{\"y\": 1500000.0, \"x\": -1989000.0}, {\"y\": 1500000.0, \"x\": -2011000.0}], [{\"y\": 1400000.0, \"x\": -1989000.0}, {\"y\": 1400000.0, \"x\": -2011000.0}], [{\"y\": 1300000.0, \"x\": -1989000.0}, {\"y\": 1300000.0, \"x\": -2011000.0}], [{\"y\": 1200000.0, \"x\": -1989000.0}, {\"y\": 1200000.0, \"x\": -2011000.0}], [{\"y\": 1211000.0, \"x\": -1900000.0}, {\"y\": 1189000.0, \"x\": -1900000.0}], [{\"y\": 1211000.0, \"x\": -1800000.0}, {\"y\": 1189000.0, \"x\": -1800000.0}], [{\"y\": 1211000.0, \"x\": -1700000.0}, {\"y\": 1189000.0, \"x\": -1700000.0}], [{\"y\": 1211000.0, \"x\": -1600000.0}, {\"y\": 1189000.0, \"x\": -1600000.0}], [{\"y\": 1211000.0, \"x\": -1500000.0}, {\"y\": 1189000.0, \"x\": -1500000.0}], [{\"y\": 1211000.0, \"x\": -1400000.0}, {\"y\": 1189000.0, \"x\": -1400000.0}], [{\"y\": 1211000.0, \"x\": -1300000.0}, {\"y\": 1189000.0, \"x\": -1300000.0}]]\n"
     ]
    }
   ],
   "source": [
    "print strap_paths"
   ]
  },
  {
   "cell_type": "code",
   "execution_count": 21,
   "metadata": {
    "collapsed": false
   },
   "outputs": [],
   "source": [
    "f = json.loads(str(strap_paths))"
   ]
  },
  {
   "cell_type": "code",
   "execution_count": 22,
   "metadata": {
    "collapsed": false
   },
   "outputs": [
    {
     "data": {
      "text/plain": [
       "[[{u'x': -3171511.1472882936, u'y': 3187067.4964743974},\n",
       "  {u'x': -3187067.4964743974, u'y': 3171511.1472882936}],\n",
       " [{u'x': -3100800.4691696386, u'y': 3116356.8183557424},\n",
       "  {u'x': -3116356.8183557424, u'y': 3100800.4691696386}],\n",
       " [{u'x': -3030089.7910509836, u'y': 3045646.1402370874},\n",
       "  {u'x': -3045646.1402370874, u'y': 3030089.7910509836}],\n",
       " [{u'x': -2959379.112932329, u'y': 2974935.462118433},\n",
       "  {u'x': -2974935.462118433, u'y': 2959379.112932329}],\n",
       " [{u'x': -2888668.4348136745, u'y': 2904224.7839997783},\n",
       "  {u'x': -2904224.7839997783, u'y': 2888668.4348136745}],\n",
       " [{u'x': -2817957.7566950195, u'y': 2833514.1058811233},\n",
       "  {u'x': -2833514.1058811233, u'y': 2817957.7566950195}],\n",
       " [{u'x': -2747247.078576365, u'y': 2762803.427762469},\n",
       "  {u'x': -2762803.427762469, u'y': 2747247.078576365}],\n",
       " [{u'x': -2676536.40045771, u'y': 2692092.749643814},\n",
       "  {u'x': -2692092.749643814, u'y': 2676536.40045771}],\n",
       " [{u'x': -2605825.7223390555, u'y': 2621382.0715251593},\n",
       "  {u'x': -2621382.0715251593, u'y': 2605825.7223390555}],\n",
       " [{u'x': -2535115.0442204005, u'y': 2550671.3934065043},\n",
       "  {u'x': -2550671.3934065043, u'y': 2535115.0442204005}],\n",
       " [{u'x': -2464404.366101746, u'y': 2479960.71528785},\n",
       "  {u'x': -2479960.71528785, u'y': 2464404.366101746}],\n",
       " [{u'x': -2393693.687983091, u'y': 2409250.037169195},\n",
       "  {u'x': -2409250.037169195, u'y': 2393693.687983091}],\n",
       " [{u'x': -2322983.0098644365, u'y': 2338539.3590505403},\n",
       "  {u'x': -2338539.3590505403, u'y': 2322983.0098644365}],\n",
       " [{u'x': -2252272.3317457815, u'y': 2267828.6809318853},\n",
       "  {u'x': -2267828.6809318853, u'y': 2252272.3317457815}],\n",
       " [{u'x': -2181561.653627127, u'y': 2197118.0028132307},\n",
       "  {u'x': -2197118.0028132307, u'y': 2181561.653627127}],\n",
       " [{u'x': -2110850.975508472, u'y': 2126407.3246945757},\n",
       "  {u'x': -2126407.3246945757, u'y': 2110850.975508472}],\n",
       " [{u'x': -2040140.297389817, u'y': 2055696.6465759212},\n",
       "  {u'x': -2055696.6465759212, u'y': 2040140.297389817}],\n",
       " [{u'x': -1969429.6192711624, u'y': 1984985.9684572667},\n",
       "  {u'x': -1984985.9684572667, u'y': 1969429.6192711624}],\n",
       " [{u'x': -1989000.0, u'y': 1900000.0}, {u'x': -2011000.0, u'y': 1900000.0}],\n",
       " [{u'x': -1989000.0, u'y': 1800000.0}, {u'x': -2011000.0, u'y': 1800000.0}],\n",
       " [{u'x': -1989000.0, u'y': 1700000.0}, {u'x': -2011000.0, u'y': 1700000.0}],\n",
       " [{u'x': -1989000.0, u'y': 1600000.0}, {u'x': -2011000.0, u'y': 1600000.0}],\n",
       " [{u'x': -1989000.0, u'y': 1500000.0}, {u'x': -2011000.0, u'y': 1500000.0}],\n",
       " [{u'x': -1989000.0, u'y': 1400000.0}, {u'x': -2011000.0, u'y': 1400000.0}],\n",
       " [{u'x': -1989000.0, u'y': 1300000.0}, {u'x': -2011000.0, u'y': 1300000.0}],\n",
       " [{u'x': -1989000.0, u'y': 1200000.0}, {u'x': -2011000.0, u'y': 1200000.0}],\n",
       " [{u'x': -1900000.0, u'y': 1211000.0}, {u'x': -1900000.0, u'y': 1189000.0}],\n",
       " [{u'x': -1800000.0, u'y': 1211000.0}, {u'x': -1800000.0, u'y': 1189000.0}],\n",
       " [{u'x': -1700000.0, u'y': 1211000.0}, {u'x': -1700000.0, u'y': 1189000.0}],\n",
       " [{u'x': -1600000.0, u'y': 1211000.0}, {u'x': -1600000.0, u'y': 1189000.0}],\n",
       " [{u'x': -1500000.0, u'y': 1211000.0}, {u'x': -1500000.0, u'y': 1189000.0}],\n",
       " [{u'x': -1400000.0, u'y': 1211000.0}, {u'x': -1400000.0, u'y': 1189000.0}],\n",
       " [{u'x': -1300000.0, u'y': 1211000.0}, {u'x': -1300000.0, u'y': 1189000.0}]]"
      ]
     },
     "execution_count": 22,
     "metadata": {},
     "output_type": "execute_result"
    }
   ],
   "source": [
    "f"
   ]
  },
  {
   "cell_type": "code",
   "execution_count": null,
   "metadata": {
    "collapsed": true
   },
   "outputs": [],
   "source": []
  }
 ],
 "metadata": {
  "kernelspec": {
   "display_name": "Python 2",
   "language": "python",
   "name": "python2"
  },
  "language_info": {
   "codemirror_mode": {
    "name": "ipython",
    "version": 2
   },
   "file_extension": ".py",
   "mimetype": "text/x-python",
   "name": "python",
   "nbconvert_exporter": "python",
   "pygments_lexer": "ipython2",
   "version": "2.7.8"
  }
 },
 "nbformat": 4,
 "nbformat_minor": 0
}
