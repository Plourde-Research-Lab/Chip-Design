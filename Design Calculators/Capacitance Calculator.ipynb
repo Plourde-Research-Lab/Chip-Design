{
 "cells": [
  {
   "cell_type": "code",
   "execution_count": 24,
   "metadata": {
    "collapsed": false
   },
   "outputs": [
    {
     "name": "stdout",
     "output_type": "stream",
     "text": [
      "Populating the interactive namespace from numpy and matplotlib\n"
     ]
    }
   ],
   "source": [
    "%pylab inline\n",
    "from scipy.constants import epsilon_0, mu_0, c\n",
    "from scipy.special import ellipk"
   ]
  },
  {
   "cell_type": "code",
   "execution_count": 2,
   "metadata": {
    "collapsed": false
   },
   "outputs": [
    {
     "name": "stdout",
     "output_type": "stream",
     "text": [
      "1999.9999999999998fF\n"
     ]
    },
    {
     "data": {
      "text/plain": [
       "1.9999999999999997e-09"
      ]
     },
     "execution_count": 2,
     "metadata": {},
     "output_type": "execute_result"
    }
   ],
   "source": [
    "def C(a, eps, d):\n",
    "    ''' Give area and distance in micron^2, micron. Returns in Farads\n",
    "    '''\n",
    "    return (a*eps*1e-6/(d))*1e-6\n",
    "\n",
    "print (str(C(5*10, 4, .1)*1e12) + \"fF\")\n",
    "\n",
    "C(5*10, 4, .1)"
   ]
  },
  {
   "cell_type": "code",
   "execution_count": 25,
   "metadata": {
    "collapsed": false
   },
   "outputs": [],
   "source": [
    "si_eps = 11.6*epsilon_0\n",
    "eps = (si_eps + epsilon_0)/2\n",
    "\n",
    "def C_dcp(s, w, d, l):\n",
    "    return -2*eps/np.pi * np.log(1-((1-s/4)/(d+w))**2) * l\n",
    "#     return \n",
    "\n",
    "def C_xmon(s, w, l):\n",
    "    k = s/(s+2*w)\n",
    "    return 8*l*(si_eps + epsilon_0)*ellipk(k) / ellipk(sqrt(1-k**2))"
   ]
  },
  {
   "cell_type": "code",
   "execution_count": 23,
   "metadata": {
    "collapsed": false
   },
   "outputs": [
    {
     "data": {
      "text/plain": [
       "1.0190699778267823e-12"
      ]
     },
     "execution_count": 23,
     "metadata": {},
     "output_type": "execute_result"
    }
   ],
   "source": [
    "C_dcp(6,16,50, 500)"
   ]
  },
  {
   "cell_type": "code",
   "execution_count": 26,
   "metadata": {
    "collapsed": false
   },
   "outputs": [
    {
     "data": {
      "text/plain": [
       "8.8115291355957962e-14"
      ]
     },
     "execution_count": 26,
     "metadata": {},
     "output_type": "execute_result"
    }
   ],
   "source": [
    "C_xmon(8e-6, 4e-6, 130e-6)"
   ]
  },
  {
   "cell_type": "code",
   "execution_count": null,
   "metadata": {
    "collapsed": true
   },
   "outputs": [],
   "source": []
  }
 ],
 "metadata": {
  "kernelspec": {
   "display_name": "Python 3",
   "language": "python",
   "name": "python3"
  },
  "language_info": {
   "codemirror_mode": {
    "name": "ipython",
    "version": 3
   },
   "file_extension": ".py",
   "mimetype": "text/x-python",
   "name": "python",
   "nbconvert_exporter": "python",
   "pygments_lexer": "ipython3",
   "version": "3.4.0"
  }
 },
 "nbformat": 4,
 "nbformat_minor": 0
}
