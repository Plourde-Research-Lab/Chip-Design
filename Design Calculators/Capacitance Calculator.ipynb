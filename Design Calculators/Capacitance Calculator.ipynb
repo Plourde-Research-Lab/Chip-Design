{
 "cells": [
  {
   "cell_type": "code",
   "execution_count": 1,
   "metadata": {
    "collapsed": false
   },
   "outputs": [
    {
     "name": "stderr",
     "output_type": "stream",
     "text": [
      "/Users/caleb/anaconda/lib/python3.5/site-packages/matplotlib/font_manager.py:273: UserWarning: Matplotlib is building the font cache using fc-list. This may take a moment.\n",
      "  warnings.warn('Matplotlib is building the font cache using fc-list. This may take a moment.')\n",
      "/Users/caleb/anaconda/lib/python3.5/site-packages/matplotlib/font_manager.py:273: UserWarning: Matplotlib is building the font cache using fc-list. This may take a moment.\n",
      "  warnings.warn('Matplotlib is building the font cache using fc-list. This may take a moment.')\n"
     ]
    },
    {
     "name": "stdout",
     "output_type": "stream",
     "text": [
      "Populating the interactive namespace from numpy and matplotlib\n"
     ]
    }
   ],
   "source": [
    "%pylab inline\n",
    "from scipy.constants import epsilon_0, mu_0, c\n",
    "from scipy.special import ellipk"
   ]
  },
  {
   "cell_type": "code",
   "execution_count": 14,
   "metadata": {
    "collapsed": false
   },
   "outputs": [],
   "source": [
    "def ppC(a, eps, d):\n",
    "    ''' Give area and distance in micron^2, micron. Returns in Farads\n",
    "    '''\n",
    "    return (a*eps*1e-6/(d))*1e-6\n",
    "# print (str(ppC(5*10, 4, .1)*1e12) + \"fF\")\n",
    "# C(5*10, 4, .1)\n",
    "\n",
    "def C_xmon(s, w, l, eps_si = 11.6):\n",
    "    k = s/(s+2*w)\n",
    "    print(k)\n",
    "    return 8*l*(1+eps_si)*epsilon_0*ellipk(k)/ellipk(sqrt(1-k**2))"
   ]
  },
  {
   "cell_type": "code",
   "execution_count": 15,
   "metadata": {
    "collapsed": false
   },
   "outputs": [
    {
     "name": "stdout",
     "output_type": "stream",
     "text": [
      "0.5\n"
     ]
    },
    {
     "data": {
      "text/plain": [
       "8.8115291355957987e-14"
      ]
     },
     "execution_count": 15,
     "metadata": {},
     "output_type": "execute_result"
    }
   ],
   "source": [
    "C_xmon(8e-6, 4e-6, 130e-6)"
   ]
  },
  {
   "cell_type": "code",
   "execution_count": 13,
   "metadata": {
    "collapsed": false
   },
   "outputs": [
    {
     "data": {
      "text/plain": [
       "2.3157894736842106"
      ]
     },
     "execution_count": 13,
     "metadata": {},
     "output_type": "execute_result"
    }
   ],
   "source": [
    "8.8/3.8"
   ]
  },
  {
   "cell_type": "code",
   "execution_count": 20,
   "metadata": {
    "collapsed": false
   },
   "outputs": [
    {
     "name": "stdout",
     "output_type": "stream",
     "text": [
      "0.5\n",
      "0.866025403784\n",
      "0.759449091708\n",
      "0.781700920761\n"
     ]
    }
   ],
   "source": [
    "l = 130e-6\n",
    "s = 8e-6\n",
    "w = 4e-6\n",
    "eps_si = 11.6\n",
    "\n",
    "k = s/(s+2*w)\n",
    "print(k)\n",
    "kp = sqrt(1-k**2)\n",
    "print(kp)\n",
    "\n",
    "\n",
    "print(ellipk(k)/ellipk(kp))\n",
    "\n",
    "print(pi/log(2*(1+sqrt(kp))/(1-sqrt(kp))))"
   ]
  },
  {
   "cell_type": "code",
   "execution_count": null,
   "metadata": {
    "collapsed": true
   },
   "outputs": [],
   "source": []
  }
 ],
 "metadata": {
  "kernelspec": {
   "display_name": "Python 3",
   "language": "python",
   "name": "python3"
  },
  "language_info": {
   "codemirror_mode": {
    "name": "ipython",
    "version": 3
   },
   "file_extension": ".py",
   "mimetype": "text/x-python",
   "name": "python",
   "nbconvert_exporter": "python",
   "pygments_lexer": "ipython3",
   "version": "3.4.4"
  }
 },
 "nbformat": 4,
 "nbformat_minor": 0
}
