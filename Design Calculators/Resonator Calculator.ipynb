{
 "cells": [
  {
   "cell_type": "code",
   "execution_count": 63,
   "metadata": {
    "collapsed": true
   },
   "outputs": [],
   "source": [
    "from scipy.constants import c, epsilon_0, mu_0\n",
    "from scipy.special import ellipk, ellipkm1\n",
    "from numpy import *"
   ]
  },
  {
   "cell_type": "markdown",
   "metadata": {},
   "source": [
    "## Constant Definition"
   ]
  },
  {
   "cell_type": "code",
   "execution_count": 2,
   "metadata": {
    "collapsed": true
   },
   "outputs": [],
   "source": [
    "e0 = 1\n",
    "e1 = 11.6\n"
   ]
  },
  {
   "cell_type": "code",
   "execution_count": 94,
   "metadata": {
    "collapsed": false
   },
   "outputs": [],
   "source": [
    "class cpw:\n",
    "    def __init__(self, w=10., s=6., t=.1, h=500., l=1000., e1=11.6, material=\"nb\", tgdelta=1e-8):\n",
    "        self.w = w*1e-6\n",
    "        self.s = s*1e-6\n",
    "        self.t = t*1e-6\n",
    "        self.h = h*1e-6\n",
    "        self.l = l*1e-6\n",
    "        self.e1 = e1\n",
    "        self.tgdelta = tgdelta\n",
    "        self.material = material\n",
    "        \n",
    "        if material == \"al\":\n",
    "            self.Tc = 1.23\n",
    "            self.rho = 4e-9\n",
    "        elif material == 'nb':\n",
    "            self.Tc = 8\n",
    "            self.rho = 4e-9\n",
    "        \n",
    "        self.l0 = 1.05e-3*sqrt(self.rho/self.Tc)\n",
    "    \n",
    "#     Effective Dielectric Constant from Silicon-Air Interface\n",
    "    \n",
    "    def k0(self):\n",
    "        return self.w/(self.w+2*self.s)\n",
    "    \n",
    "    def kp0(self):\n",
    "        return sqrt(1-self.k0()**2)\n",
    "    \n",
    "    def k1(self):\n",
    "        return sinh(pi*self.w/(4*self.h))/sinh(pi*(2*self.s+self.w)/(4*self.h))\n",
    "    \n",
    "    def kp1(self):\n",
    "        return sqrt(1-self.k1()**2)\n",
    "    \n",
    "    def Eeff(self):\n",
    "        return 1 + ((self.e1-1)*ellipk(self.k1())*ellipk(self.kp0()))/(2*ellipk(self.kp1())*ellipk(self.k0()))\n",
    "    \n",
    "#     Kinetic Inductance Calculation\n",
    "\n",
    "    def g(self):\n",
    "        a = -log(self.t/(4*self.w))\n",
    "        b = -self.w/(self.w+2*self.s)*log(self.t/(4*(self.w+2*self.s)))\n",
    "        c = 2*(self.w+self.s)/(self.w+2*self.s)*log(self.s/(self.w+self.s))\n",
    "        return 1/(1*self.k0()**2*ellipk(self.k0())**2) * (a+b+c)\n",
    "    \n",
    "    def Llk(self):\n",
    "        return mu_0*self.l0**2/(self.w*self.t)*self.g()\n",
    "    \n",
    "#     Circuit Parameters\n",
    "    \n",
    "    def Ll(self):\n",
    "        return mu_0*ellipk(self.kp0())/(4*ellipk(self.k0())) + self.Llk()\n",
    "    \n",
    "    def Cl(self):\n",
    "        return 4*epsilon_0*self.Eeff()*ellipk(self.k0())/ellipk(self.kp0())\n",
    "    \n",
    "    def vph(self):\n",
    "        return 1/sqrt(self.Ll()*self.Cl())\n",
    "    \n",
    "    def f0(self):\n",
    "        return c/(sqrt(self.Eeff())*2*self.l)\n",
    "    \n",
    "    def z0(self):\n",
    "        return sqrt(self.Ll()/self.Cl())\n",
    "    \n",
    "#     Loss\n",
    "    def k(self):\n",
    "        return 2*pi*self.f0()*sqrt(self.Eeff())/c\n",
    "    \n",
    "    def alpha_d(self):\n",
    "        return self.e1/sqrt(self.Eeff())*(self.Eeff()-1)/(self.e1-1)*self.tgdelta*self.k()/2\n",
    "    \n",
    "#     Circuit Parameters with Loss\n",
    "    \n",
    "    def L(self):\n",
    "        return 2*self.Ll()*self.l/(pi**2)\n",
    "    \n",
    "    def C(self):\n",
    "        return self.Cl()*self.l/2\n",
    "    \n",
    "    def R(self):\n",
    "        return self.z0()/(self.alpha_d()*self.l)\n",
    "    \n",
    "    def Qint(self):\n",
    "        return self.R()*self.C()/sqrt(self.L()*self.C())\n",
    "    \n",
    "    def wn(self):\n",
    "        return self.Qint()/(self.R()*self.C())\n",
    "    def fn(self):\n",
    "        return self.wn()/(2*pi)"
   ]
  },
  {
   "cell_type": "code",
   "execution_count": 97,
   "metadata": {
    "collapsed": false
   },
   "outputs": [
    {
     "data": {
      "text/plain": [
       "5.8626144093408943"
      ]
     },
     "execution_count": 97,
     "metadata": {},
     "output_type": "execute_result"
    }
   ],
   "source": [
    "test = cpw(l=10098.)\n",
    "test.fn()*1e-9"
   ]
  },
  {
   "cell_type": "code",
   "execution_count": 72,
   "metadata": {
    "collapsed": false
   },
   "outputs": [
    {
     "data": {
      "text/plain": [
       "1.8946954574088934"
      ]
     },
     "execution_count": 72,
     "metadata": {},
     "output_type": "execute_result"
    }
   ],
   "source": [
    "ellipkm1(test.k1())"
   ]
  },
  {
   "cell_type": "code",
   "execution_count": 90,
   "metadata": {
    "collapsed": false
   },
   "outputs": [
    {
     "data": {
      "text/plain": [
       "371968844670.70648"
      ]
     },
     "execution_count": 90,
     "metadata": {},
     "output_type": "execute_result"
    }
   ],
   "source": [
    "test.wn()"
   ]
  },
  {
   "cell_type": "code",
   "execution_count": 95,
   "metadata": {
    "collapsed": true
   },
   "outputs": [],
   "source": [
    "def calc_freq(length_in_um):\n",
    "    return cpw(l=length_in_um).fn()"
   ]
  },
  {
   "cell_type": "code",
   "execution_count": 96,
   "metadata": {
    "collapsed": false
   },
   "outputs": [
    {
     "data": {
      "text/plain": [
       "59200680305.524345"
      ]
     },
     "execution_count": 96,
     "metadata": {},
     "output_type": "execute_result"
    }
   ],
   "source": [
    "calc_freq(1000)"
   ]
  },
  {
   "cell_type": "code",
   "execution_count": null,
   "metadata": {
    "collapsed": true
   },
   "outputs": [],
   "source": []
  }
 ],
 "metadata": {
  "kernelspec": {
   "display_name": "Python 2",
   "language": "python",
   "name": "python2"
  },
  "language_info": {
   "codemirror_mode": {
    "name": "ipython",
    "version": 2
   },
   "file_extension": ".py",
   "mimetype": "text/x-python",
   "name": "python",
   "nbconvert_exporter": "python",
   "pygments_lexer": "ipython2",
   "version": "2.7.9"
  }
 },
 "nbformat": 4,
 "nbformat_minor": 0
}
