{
 "cells": [
  {
   "cell_type": "code",
   "execution_count": 7,
   "metadata": {
    "collapsed": true
   },
   "outputs": [],
   "source": [
    "import subprocess\n",
    "from numpy import *\n",
    "from scipy.constants import mu_0\n",
    "from IPython.display import Image"
   ]
  },
  {
   "cell_type": "markdown",
   "metadata": {},
   "source": [
    "Self Inductace from square washer with square hole.\n",
    "$$L_h = 1.25\\mu_0d$$"
   ]
  },
  {
   "cell_type": "code",
   "execution_count": 45,
   "metadata": {
    "collapsed": false
   },
   "outputs": [
    {
     "name": "stdout",
     "output_type": "stream",
     "text": [
      "0.0235619449019nH\n"
     ]
    }
   ],
   "source": [
    "# 15x15 Washer\n",
    "width = 15*1e-6 # 15 um washer\n",
    "def lh(d):\n",
    "    return 1.25*mu_0*d\n",
    "print(\"{}nH\").format(lh(width)*1e9)"
   ]
  },
  {
   "cell_type": "markdown",
   "metadata": {},
   "source": [
    "Coil made from wire of radius $r$ wound on a form of radius $R$\n",
    "$$L_p = \\mu_0R[\\ln{8R/r}-2]$$"
   ]
  },
  {
   "cell_type": "code",
   "execution_count": 39,
   "metadata": {
    "collapsed": false
   },
   "outputs": [
    {
     "name": "stdout",
     "output_type": "stream",
     "text": [
      "0.0959456879609nH\n"
     ]
    }
   ],
   "source": [
    "# 15um round coil\n",
    "r = .1*1e-6\n",
    "R = 15.*1e-6\n",
    "def lp(d):\n",
    "    return mu_0*R*(log(8*R/r)-2)\n",
    "print(\"{}nH\").format(lp(width)*1e9)"
   ]
  },
  {
   "cell_type": "markdown",
   "metadata": {},
   "source": [
    "So maybe we should expect the inductance to be somewhere between the two, or at least in the same order of magnitude."
   ]
  },
  {
   "cell_type": "code",
   "execution_count": 42,
   "metadata": {
    "collapsed": false
   },
   "outputs": [
    {
     "name": "stdout",
     "output_type": "stream",
     "text": [
      "test.inp\t0.722249nH\n"
     ]
    }
   ],
   "source": [
    "filename = \"test.inp\"\n",
    "out = subprocess.check_output(('fasthenry', filename))\n",
    "Ls = loadtxt('Zc.mat', skiprows=2, dtype=complex)[1]\n",
    "Ls = Ls.imag\n",
    "print(\"{}\\t{}nH\").format(filename, str(Ls*1e9))"
   ]
  },
  {
   "cell_type": "code",
   "execution_count": 43,
   "metadata": {
    "collapsed": false,
    "scrolled": false
   },
   "outputs": [
    {
     "name": "stdout",
     "output_type": "stream",
     "text": [
      "Running FastHenry 3.0wr (29Sep96, mod 082514)\n",
      "  Date: Thu Jul 16 22:07:11 2015\n",
      "  Host: air.local\n",
      "Solution technique: ITERATIVE\n",
      "Matrix vector product method: MULTIPOLE\n",
      "  Order of expansion: 2\n",
      "Preconditioner: ON\n",
      "Error tolerance: 0.001\n",
      "Reading from file: test.inp\n",
      "Title:\n",
      "* Squid Loop\n",
      "\n",
      "all lengths multiplied by 1e-06 to convert to meters\n",
      "Total number of filaments before multipole refine: 400\n",
      "Total number of filaments after multipole refine: 3200\n",
      "\n",
      "Multipole Summary\n",
      "  Expansion order: 2\n",
      "  Number of partitioning levels: 3\n",
      "  Total number of filaments: 3200\n",
      "Percentage of multiplies done by multipole: 100%\n",
      "Scanning graph to find fundamental circuits...\n",
      "Number of Groundplanes : 0 \n",
      "Number of filaments:       3200\n",
      "Number of segments:          32\n",
      "Number of nodes:             33\n",
      "Number of meshes:          3169\n",
      "          ----from tree:                   1 \n",
      "          ----from planes: (before holes)  0 \n",
      "Number of conductors:         1   (rows of matrix in Zc.mat) \n",
      "Number of columns:            1   (columns of matrix in Zc.mat) \n",
      "Number of real nodes:        33\n",
      "filling M...\n",
      "filling R and L...\n",
      "Total Memory allocated: 19769 kilobytes\n",
      "Frequency = 1\n",
      "Forming sparse matrix preconditioner.\n",
      "Precond build time 0.122368 (queries 319995, allocations 319969)\n",
      " 10.0 19.9 29.9 39.9 49.9 59.8 69.8 79.8 89.7 99.7\n",
      "Reorder and factor time 1.92092\n",
      "conductor 0 from node n1\n",
      "Calling gmres...\n",
      "1 2 3 \n",
      "\n",
      "All impedance matrices dumped to file Zc.mat\n",
      "\n",
      "Times:  Read geometry   0.000492\n",
      "        Multipole setup 0.398939\n",
      "        Scanning graph  1.7e-05\n",
      "        Form A M and Z  0.001247\n",
      "        form M'ZM       0\n",
      "        Form precond    2.04331\n",
      "        GMRES time      0.102288\n",
      "   Total:               2.54629\n",
      "\n"
     ]
    }
   ],
   "source": [
    "print(out)"
   ]
  },
  {
   "cell_type": "code",
   "execution_count": null,
   "metadata": {
    "collapsed": true
   },
   "outputs": [],
   "source": []
  }
 ],
 "metadata": {
  "kernelspec": {
   "display_name": "Python 2",
   "language": "python",
   "name": "python2"
  },
  "language_info": {
   "codemirror_mode": {
    "name": "ipython",
    "version": 2
   },
   "file_extension": ".py",
   "mimetype": "text/x-python",
   "name": "python",
   "nbconvert_exporter": "python",
   "pygments_lexer": "ipython2",
   "version": "2.7.8"
  }
 },
 "nbformat": 4,
 "nbformat_minor": 0
}
