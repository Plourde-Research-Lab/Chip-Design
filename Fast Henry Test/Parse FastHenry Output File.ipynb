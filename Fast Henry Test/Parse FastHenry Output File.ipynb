{
 "cells": [
  {
   "cell_type": "code",
   "execution_count": 2,
   "metadata": {
    "collapsed": true
   },
   "outputs": [],
   "source": [
    "from numpy import loadtxt\n",
    "from os.path import join"
   ]
  },
  {
   "cell_type": "code",
   "execution_count": 5,
   "metadata": {
    "collapsed": false
   },
   "outputs": [
    {
     "name": "stdout",
     "output_type": "stream",
     "text": [
      "Row 1:  n1  to  n5\n",
      "\n"
     ]
    }
   ],
   "source": [
    "num_conductors = 1\n",
    "\n",
    "fp = open('Zc.mat')\n",
    "\n",
    "headers = []\n",
    "\n",
    "for i, line in enumerate(fp):\n",
    "    if i < num_conductors:\n",
    "        x = line\n",
    "        print(x)\n",
    "fp.close()\n",
    "\n",
    "#zc = loadtxt('Zc.mat', skiprows=num_conductors+1,dtype=complex)"
   ]
  },
  {
   "cell_type": "code",
   "execution_count": null,
   "metadata": {
    "collapsed": true
   },
   "outputs": [],
   "source": []
  }
 ],
 "metadata": {
  "kernelspec": {
   "display_name": "Python 2",
   "language": "python",
   "name": "python2"
  },
  "language_info": {
   "codemirror_mode": {
    "name": "ipython",
    "version": 2
   },
   "file_extension": ".py",
   "mimetype": "text/x-python",
   "name": "python",
   "nbconvert_exporter": "python",
   "pygments_lexer": "ipython2",
   "version": "2.7.8"
  }
 },
 "nbformat": 4,
 "nbformat_minor": 0
}
