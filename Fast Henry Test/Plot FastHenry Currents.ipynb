{
 "cells": [
  {
   "cell_type": "code",
   "execution_count": 1,
   "metadata": {
    "collapsed": false
   },
   "outputs": [],
   "source": [
    "from numpy import loadtxt\n",
    "import matplotlib.pyplot as plt\n",
    "%matplotlib inline"
   ]
  },
  {
   "cell_type": "code",
   "execution_count": 2,
   "metadata": {
    "collapsed": true
   },
   "outputs": [],
   "source": [
    "x, y, z, vx, vy, vz = loadtxt('Jreal1_0.mat', unpack=True)"
   ]
  },
  {
   "cell_type": "code",
   "execution_count": 7,
   "metadata": {
    "collapsed": false
   },
   "outputs": [
    {
     "data": {
      "image/png": "[encoded data removed]",
      "text/plain": [
       "<matplotlib.figure.Figure at 0x1047fab50>"
      ]
     },
     "metadata": {},
     "output_type": "display_data"
    }
   ],
   "source": [
    "plt.figure()\n",
    "plt.arrow(x[0], y[0], x[0]+vx[0]*1e-24, y[0]+vy[0]*1e-24)\n",
    "plt.axis([100e-6, 100e6, 100e-6, 100e6])\n",
    "plt.show()"
   ]
  },
  {
   "cell_type": "code",
   "execution_count": 5,
   "metadata": {
    "collapsed": false
   },
   "outputs": [
    {
     "data": {
      "text/plain": [
       "array([ -7.50000000e-06,  -7.50000000e-06,  -7.50000000e-06,\n",
       "        -7.50000000e-06,  -7.50000000e-06,  -7.50000000e-06,\n",
       "        -7.50000000e-06,  -7.50000000e-06,  -7.50000000e-06,\n",
       "        -7.50000000e-06,  -5.62500000e-06,  -5.62500000e-06,\n",
       "        -5.62500000e-06,  -5.62500000e-06,  -5.62500000e-06,\n",
       "        -5.62500000e-06,  -5.62500000e-06,  -5.62500000e-06,\n",
       "        -5.62500000e-06,  -5.62500000e-06,  -3.75000000e-06,\n",
       "        -3.75000000e-06,  -3.75000000e-06,  -3.75000000e-06,\n",
       "        -3.75000000e-06,  -3.75000000e-06,  -3.75000000e-06,\n",
       "        -3.75000000e-06,  -3.75000000e-06,  -3.75000000e-06,\n",
       "        -1.87500000e-06,  -1.87500000e-06,  -1.87500000e-06,\n",
       "        -1.87500000e-06,  -1.87500000e-06,  -1.87500000e-06,\n",
       "        -1.87500000e-06,  -1.87500000e-06,  -1.87500000e-06,\n",
       "        -1.87500000e-06,   0.00000000e+00,   0.00000000e+00,\n",
       "         0.00000000e+00,   0.00000000e+00,   0.00000000e+00,\n",
       "         0.00000000e+00,   0.00000000e+00,   0.00000000e+00,\n",
       "         0.00000000e+00,   0.00000000e+00,   1.87500000e-06,\n",
       "         1.87500000e-06,   1.87500000e-06,   1.87500000e-06,\n",
       "         1.87500000e-06,   1.87500000e-06,   1.87500000e-06,\n",
       "         1.87500000e-06,   1.87500000e-06,   1.87500000e-06,\n",
       "         3.75000000e-06,   3.75000000e-06,   3.75000000e-06,\n",
       "         3.75000000e-06,   3.75000000e-06,   3.75000000e-06,\n",
       "         3.75000000e-06,   3.75000000e-06,   3.75000000e-06,\n",
       "         3.75000000e-06,   5.62500000e-06,   5.62500000e-06,\n",
       "         5.62500000e-06,   5.62500000e-06,   5.62500000e-06,\n",
       "         5.62500000e-06,   5.62500000e-06,   5.62500000e-06,\n",
       "         5.62500000e-06,   5.62500000e-06,   7.54919000e-06,\n",
       "         7.54677000e-06,   7.54194000e-06,   7.53226000e-06,\n",
       "         7.51290000e-06,   7.48710000e-06,   7.46774000e-06,\n",
       "         7.45806000e-06,   7.45323000e-06,   7.45081000e-06,\n",
       "         7.54919000e-06,   7.54677000e-06,   7.54194000e-06,\n",
       "         7.53226000e-06,   7.51290000e-06,   7.48710000e-06,\n",
       "         7.46774000e-06,   7.45806000e-06,   7.45323000e-06,\n",
       "         7.45081000e-06,   7.54919000e-06,   7.54677000e-06,\n",
       "         7.54194000e-06,   7.53226000e-06,   7.51290000e-06,\n",
       "         7.48710000e-06,   7.46774000e-06,   7.45806000e-06,\n",
       "         7.45323000e-06,   7.45081000e-06,   7.54919000e-06,\n",
       "         7.54677000e-06,   7.54194000e-06,   7.53226000e-06,\n",
       "         7.51290000e-06,   7.48710000e-06,   7.46774000e-06,\n",
       "         7.45806000e-06,   7.45323000e-06,   7.45081000e-06,\n",
       "         7.54919000e-06,   7.54677000e-06,   7.54194000e-06,\n",
       "         7.53226000e-06,   7.51290000e-06,   7.48710000e-06,\n",
       "         7.46774000e-06,   7.45806000e-06,   7.45323000e-06,\n",
       "         7.45081000e-06,   7.54919000e-06,   7.54677000e-06,\n",
       "         7.54194000e-06,   7.53226000e-06,   7.51290000e-06,\n",
       "         7.48710000e-06,   7.46774000e-06,   7.45806000e-06,\n",
       "         7.45323000e-06,   7.45081000e-06,   7.54919000e-06,\n",
       "         7.54677000e-06,   7.54194000e-06,   7.53226000e-06,\n",
       "         7.51290000e-06,   7.48710000e-06,   7.46774000e-06,\n",
       "         7.45806000e-06,   7.45323000e-06,   7.45081000e-06,\n",
       "         7.54919000e-06,   7.54677000e-06,   7.54194000e-06,\n",
       "         7.53226000e-06,   7.51290000e-06,   7.48710000e-06,\n",
       "         7.46774000e-06,   7.45806000e-06,   7.45323000e-06,\n",
       "         7.45081000e-06,   7.50000000e-06,   7.50000000e-06,\n",
       "         7.50000000e-06,   7.50000000e-06,   7.50000000e-06,\n",
       "         7.50000000e-06,   7.50000000e-06,   7.50000000e-06,\n",
       "         7.50000000e-06,   7.50000000e-06,   5.62500000e-06,\n",
       "         5.62500000e-06,   5.62500000e-06,   5.62500000e-06,\n",
       "         5.62500000e-06,   5.62500000e-06,   5.62500000e-06,\n",
       "         5.62500000e-06,   5.62500000e-06,   5.62500000e-06,\n",
       "         3.75000000e-06,   3.75000000e-06,   3.75000000e-06,\n",
       "         3.75000000e-06,   3.75000000e-06,   3.75000000e-06,\n",
       "         3.75000000e-06,   3.75000000e-06,   3.75000000e-06,\n",
       "         3.75000000e-06,   1.87500000e-06,   1.87500000e-06,\n",
       "         1.87500000e-06,   1.87500000e-06,   1.87500000e-06,\n",
       "         1.87500000e-06,   1.87500000e-06,   1.87500000e-06,\n",
       "         1.87500000e-06,   1.87500000e-06,   0.00000000e+00,\n",
       "         0.00000000e+00,   0.00000000e+00,   0.00000000e+00,\n",
       "         0.00000000e+00,   0.00000000e+00,   0.00000000e+00,\n",
       "         0.00000000e+00,   0.00000000e+00,   0.00000000e+00,\n",
       "        -1.87500000e-06,  -1.87500000e-06,  -1.87500000e-06,\n",
       "        -1.87500000e-06,  -1.87500000e-06,  -1.87500000e-06,\n",
       "        -1.87500000e-06,  -1.87500000e-06,  -1.87500000e-06,\n",
       "        -1.87500000e-06,  -3.75000000e-06,  -3.75000000e-06,\n",
       "        -3.75000000e-06,  -3.75000000e-06,  -3.75000000e-06,\n",
       "        -3.75000000e-06,  -3.75000000e-06,  -3.75000000e-06,\n",
       "        -3.75000000e-06,  -3.75000000e-06,  -5.62500000e-06,\n",
       "        -5.62500000e-06,  -5.62500000e-06,  -5.62500000e-06,\n",
       "        -5.62500000e-06,  -5.62500000e-06,  -5.62500000e-06,\n",
       "        -5.62500000e-06,  -5.62500000e-06,  -5.62500000e-06,\n",
       "        -7.54919000e-06,  -7.54677000e-06,  -7.54194000e-06,\n",
       "        -7.53226000e-06,  -7.51290000e-06,  -7.48710000e-06,\n",
       "        -7.46774000e-06,  -7.45806000e-06,  -7.45323000e-06,\n",
       "        -7.45081000e-06,  -7.54919000e-06,  -7.54677000e-06,\n",
       "        -7.54194000e-06,  -7.53226000e-06,  -7.51290000e-06,\n",
       "        -7.48710000e-06,  -7.46774000e-06,  -7.45806000e-06,\n",
       "        -7.45323000e-06,  -7.45081000e-06,  -7.54919000e-06,\n",
       "        -7.54677000e-06,  -7.54194000e-06,  -7.53226000e-06,\n",
       "        -7.51290000e-06,  -7.48710000e-06,  -7.46774000e-06,\n",
       "        -7.45806000e-06,  -7.45323000e-06,  -7.45081000e-06,\n",
       "        -7.54919000e-06,  -7.54677000e-06,  -7.54194000e-06,\n",
       "        -7.53226000e-06,  -7.51290000e-06,  -7.48710000e-06,\n",
       "        -7.46774000e-06,  -7.45806000e-06,  -7.45323000e-06,\n",
       "        -7.45081000e-06,  -7.54919000e-06,  -7.54677000e-06,\n",
       "        -7.54194000e-06,  -7.53226000e-06,  -7.51290000e-06,\n",
       "        -7.48710000e-06,  -7.46774000e-06,  -7.45806000e-06,\n",
       "        -7.45323000e-06,  -7.45081000e-06,  -7.54919000e-06,\n",
       "        -7.54677000e-06,  -7.54194000e-06,  -7.53226000e-06,\n",
       "        -7.51290000e-06,  -7.48710000e-06,  -7.46774000e-06,\n",
       "        -7.45806000e-06,  -7.45323000e-06,  -7.45081000e-06,\n",
       "        -7.54919000e-06,  -7.54677000e-06,  -7.54194000e-06,\n",
       "        -7.53226000e-06,  -7.51290000e-06,  -7.48710000e-06,\n",
       "        -7.46774000e-06,  -7.45806000e-06,  -7.45323000e-06,\n",
       "        -7.45081000e-06,  -7.54919000e-06,  -7.54677000e-06,\n",
       "        -7.54194000e-06,  -7.53226000e-06,  -7.51290000e-06,\n",
       "        -7.48710000e-06,  -7.46774000e-06,  -7.45806000e-06,\n",
       "        -7.45323000e-06,  -7.45081000e-06])"
      ]
     },
     "execution_count": 5,
     "metadata": {},
     "output_type": "execute_result"
    }
   ],
   "source": [
    "x+vx*1e-24"
   ]
  },
  {
   "cell_type": "code",
   "execution_count": null,
   "metadata": {
    "collapsed": true
   },
   "outputs": [],
   "source": []
  }
 ],
 "metadata": {
  "kernelspec": {
   "display_name": "Python 2",
   "language": "python",
   "name": "python2"
  },
  "language_info": {
   "codemirror_mode": {
    "name": "ipython",
    "version": 2
   },
   "file_extension": ".py",
   "mimetype": "text/x-python",
   "name": "python",
   "nbconvert_exporter": "python",
   "pygments_lexer": "ipython2",
   "version": "2.7.8"
  }
 },
 "nbformat": 4,
 "nbformat_minor": 0
}
