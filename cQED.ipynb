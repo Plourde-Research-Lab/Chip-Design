{
 "metadata": {
  "name": "",
  "signature": "sha256:e06f32c4168e904779941f46e94b8f2fa70bbae8b8bc0a5b775e0524ea2de6d9"
 },
 "nbformat": 3,
 "nbformat_minor": 0,
 "worksheets": [
  {
   "cells": [
    {
     "cell_type": "code",
     "collapsed": false,
     "input": [
      "import numpy as np\n",
      "import scipy as sp\n",
      "from matplotlib import pyplot as plt\n",
      "%matplotlib inline\n",
      "import h5py\n",
      "import os"
     ],
     "language": "python",
     "metadata": {},
     "outputs": [],
     "prompt_number": 1
    },
    {
     "cell_type": "markdown",
     "metadata": {},
     "source": [
      "**Jaynes-Cummings Hamiltonian**\n",
      "\n",
      "$$\n",
      "H_{JC} = \\hbar\udbff\udc00\u03c9_r(a^\u2020a + 1/2) + \\hbar\\frac{\udbff\udc00\u03c9_a}{2} \u03c3_z + \udbff\udc00g(a^\u2020\u03c3_\u2212 + a\u03c3_+)\n",
      "$$\n",
      "\n",
      "Terms:\n",
      "\n",
      "$$\\hbar\udbff\udc00\u03c9_r(a^\u2020a + 1/2)$$\n",
      "Energy of electromagnetic field. \n",
      "\n",
      "$$\\hbar\\frac{\udbff\udc00\u03c9_a}{2} \u03c3_z$$\n",
      "Spin 1/2 atom\n",
      "\n",
      "$$g(a^\u2020\u03c3_\u2212 + a\u03c3_+)$$\n",
      "\n",
      "Dipole interaction between the two, where an atom can absorb $(\u03c3_+a)$ and emit $(a^\u2020\u03c3_\u2212)$ a photon from/to the field at rate $g$.\n",
      "____"
     ]
    },
    {
     "cell_type": "markdown",
     "metadata": {},
     "source": [
      "Any leakage or absorption by the cavity results in a decay rate $\u03ba$, sometimes expressed in terms of the quality factor $Q = \u03c9r/\\kappa$.\n",
      "\n",
      "$\\kappa$ is set by the desired transparency of the mirrors to allow some light to be transmitted to a detector as a means of probing the dynamics of the system. \n",
      "____"
     ]
    },
    {
     "cell_type": "markdown",
     "metadata": {},
     "source": [
      "**Qubit and Cavity interactions**\n",
      "\n",
      " * Resonance\n",
      "     \n",
      "\n",
      " * Dispersive Limit\n",
      "     \n",
      "     $(\u03c9_a \u2212\u03c9_r \u226b g)$\n",
      "     \n",
      "     Effective cavity frequency: $\u03c9_r\u2032 \u2248 \u03c9_r \u00b1 g^2/\u0394$\n",
      "     \n",
      "     Effective qubit frequency: $\u03c9_a\u2032 \u2248 \u03c9_a \u00b1 (2n + 1)g^2/\u0394$\n",
      "____"
     ]
    },
    {
     "cell_type": "markdown",
     "metadata": {},
     "source": [
      "**Dispersive Limit**\n",
      "\n",
      "Acheived by detuning the qubit and cavity by $\u0394 = \u03c9_a \u2212 \u03c9_r$, where $g \u226a \u0394$.\n",
      "\n",
      "Modeling the dipole interaction using non-degenerate perturbation theory, we get the approximate Hamiltonian\n",
      "\n",
      "***Cavity***\n",
      "$$\n",
      "H\u2248\udbff\udc00\\hbar\\left(\u03c9_r+\\frac{g^2}{\u0394}\u03c3_z \\right) \\left(a^\\dagger a+1/2 \\right) +\udbff\udc00\\hbar \u03c9_a \u03c3_z/2\n",
      "$$\n",
      "\n",
      "***Qubit***\n",
      "$$\n",
      "H\u2248\udbff\udc00\\hbar \u03c9_r \\left(a^\\dagger a+1/2\\right) + \\frac{\\hbar}{2}\\left(\u03c9_a+ \\frac{2g^2}{\u0394}a^\\dagger a+\\frac{g^2}{\u0394}\\right)\u03c3_z\n",
      "$$\n",
      "\n",
      "\n",
      "***Stark shift*** \n",
      "$$\\frac{2g^2}{\\Delta}a^\\dagger a = \\frac{2g^2n}{\\Delta}$$\n",
      "\n",
      "***Lamb shift***\n",
      "$$g^2/\\Delta$$\n",
      "____"
     ]
    },
    {
     "cell_type": "code",
     "collapsed": false,
     "input": [],
     "language": "python",
     "metadata": {},
     "outputs": []
    }
   ],
   "metadata": {}
  }
 ]
}